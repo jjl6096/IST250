{
  "nbformat": 4,
  "nbformat_minor": 0,
  "metadata": {
    "colab": {
      "name": "First Google Notebook.ipynb",
      "provenance": [],
      "authorship_tag": "ABX9TyN/yJN+6Dy6PdDnZUBw4HeN",
      "include_colab_link": true
    },
    "kernelspec": {
      "name": "python3",
      "display_name": "Python 3"
    }
  },
  "cells": [
    {
      "cell_type": "markdown",
      "metadata": {
        "id": "view-in-github",
        "colab_type": "text"
      },
      "source": [
        "<a href=\"https://colab.research.google.com/github/jjl6096/IST250/blob/master/First_Google_Notebook.ipynb\" target=\"_parent\"><img src=\"https://colab.research.google.com/assets/colab-badge.svg\" alt=\"Open In Colab\"/></a>"
      ]
    },
    {
      "cell_type": "markdown",
      "metadata": {
        "id": "lEbJpTRRpfel",
        "colab_type": "text"
      },
      "source": [
        "# Do you like using Jupyter Notebooks?"
      ]
    },
    {
      "cell_type": "markdown",
      "metadata": {
        "id": "BzbhNJLwpxe0",
        "colab_type": "text"
      },
      "source": [
        "Yes, its easy to use and its interesting. The step by step instructions given in the class are really helpful for me to use Jupyter Notebook."
      ]
    },
    {
      "cell_type": "markdown",
      "metadata": {
        "id": "xkSfDcOxpymj",
        "colab_type": "text"
      },
      "source": [
        "# What do you want to learn more about in Jupyter Notebooks?"
      ]
    },
    {
      "cell_type": "markdown",
      "metadata": {
        "id": "Ktb4iPNSxODq",
        "colab_type": "text"
      },
      "source": [
        "I want to learn more about how to upload music or video in Jupyter Notebook. And how to make a webpage in Jupter Notebook. Such as how to set headlines and sub-headlines and how to make URL- link."
      ]
    },
    {
      "cell_type": "markdown",
      "metadata": {
        "id": "0zmcivi0qGkD",
        "colab_type": "text"
      },
      "source": [
        "# My favorite piece of Art"
      ]
    },
    {
      "cell_type": "markdown",
      "metadata": {
        "id": "5OvDWQf2wK0L",
        "colab_type": "text"
      },
      "source": [
        "![girl with pearl earings](https://raw.githubusercontent.com/jjl6096/IST250/master/Images/girl%20with%20pearl%20earrings.png)"
      ]
    }
  ]
}